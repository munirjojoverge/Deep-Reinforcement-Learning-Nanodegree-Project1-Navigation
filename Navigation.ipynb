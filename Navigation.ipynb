{
 "cells": [
  {
   "cell_type": "markdown",
   "metadata": {},
   "source": [
    "# Navigation - Basic DQN\n",
    "\n",
    "---\n",
    "\n",
    "In this notebook, I implemented a basic DQN based on Udacity's \"Deep_Q_Network_Solution.ipynb\" with the following additions:\n",
    "* Double DQN\n",
    "* Used Non-linear layers on the 3 first layers of the NN\n",
    "* NON-Prioritised Experience Replay\n",
    "(Please read the README.MD for full references)\n",
    "\n",
    "### 1. Start the Environment\n",
    "\n",
    "We begin by importing some necessary packages.  If the code cell below returns an error, please revisit the project instructions to double-check that you have installed [Unity ML-Agents](https://github.com/Unity-Technologies/ml-agents/blob/master/docs/Installation.md) and [NumPy](http://www.numpy.org/)."
   ]
  },
  {
   "cell_type": "code",
   "execution_count": 1,
   "metadata": {},
   "outputs": [],
   "source": [
    "from unityagents import UnityEnvironment\n",
    "import numpy as np"
   ]
  },
  {
   "cell_type": "code",
   "execution_count": 2,
   "metadata": {},
   "outputs": [],
   "source": [
    "from datetime import datetime\n",
    "import random\n",
    "import torch\n",
    "import numpy as np\n",
    "from collections import deque\n",
    "import matplotlib.pyplot as plt\n",
    "%matplotlib inline"
   ]
  },
  {
   "cell_type": "markdown",
   "metadata": {},
   "source": [
    "#### 1.1 Import from the python files developed for this project\n",
    "You'll find all the python code in this files.\n",
    "* dqn_agent.py: Define Agent class\n",
    "* model.py:     Define the DQN NN\n"
   ]
  },
  {
   "cell_type": "code",
   "execution_count": 3,
   "metadata": {},
   "outputs": [],
   "source": [
    "from dqn_agent import Agent"
   ]
  },
  {
   "cell_type": "markdown",
   "metadata": {},
   "source": [
    "### 2. Define the arguments that we will use\n",
    "\n",
    "This is a comprehensive list of arguments that will serve as a fundation for the both, this initial project and the most advanced Visual Banana project with the eyes set on future ATARI games. You'll notice that many of these parameters are not used here (but are on the Visual Banana project). You'll also notice that I created a class rather than using \"argparse\", and the reason is that I had issues running \"argparse\" on a Jupyter Notebook environment. "
   ]
  },
  {
   "cell_type": "code",
   "execution_count": 14,
   "metadata": {
    "scrolled": true
   },
   "outputs": [],
   "source": [
    "class args:\n",
    "    seed = 123                      # Random seed\n",
    "    use_NoisyNet = True             # Use Noisy Net or (if False) use standard linear layer on the NN\n",
    "    disable_cuda = False            # Disable CUDA\n",
    "    device = torch.device('cuda')   # CUDA (GPU) or CPU\n",
    "    game = '/home/munirjojo-verge/deep-reinforcement-learning/p1_navigation/Banana_Linux/Banana.x86_64' # Udacity environment. In the future an ATARI game        \n",
    "    T_max = int(1e3)                # Number of training steps (4x number of frames)\n",
    "    max_episode_length = int(108e3) # Max episode length (0 to disable)\n",
    "    history_length = 1              # Number of consecutive states processed\n",
    "    hidden_size = 64                # Network hidden size\n",
    "    noisy_std = 0.1                 # Initial standard deviation of noisy linear layers\n",
    "    atoms = 51                      # Discretised size of value distribution\n",
    "    V_min = -10                     # Minimum of value distribution support\n",
    "    V_max = 10                      # Maximum of value distribution support\n",
    "    model = ''                      # Pretrained model (state dict)\n",
    "    memory_capacity = int(1e5)      # Experience replay memory capacity\n",
    "    replay_frequency = 1            # Frequency of sampling from memory\n",
    "    priority_exponent = 0.5         # Prioritised experience replay exponent (originally denoted α)\n",
    "    priority_weight = 0.4           # Initial prioritised experience replay importance sampling weight\n",
    "    multi_step = 1                  # Number of steps for multi-step return\n",
    "    discount = 0.99                 # GAMMA Discount factor\n",
    "    target_update = int(4)          # Number of steps after which to update target network\n",
    "    tau = 1e-3                      # for soft update of target network parameters (θ_target = τ*θ_local + (1 - τ)*θ_target)\n",
    "    reward_clip = 1                 # Reward clipping (0 to disable)\n",
    "    lr = 0.000625                   # Learning rate\n",
    "    adam_eps = 1.5e-4               # Adam epsilon\n",
    "    batch_size = 64                 # Batch size\n",
    "    learn_start = int(80e1)         # Number of steps before starting training\n",
    "    evaluate = False                # Evaluate only\n",
    "    evaluation_interval = 100000    # Number of training steps between evaluations\n",
    "    evaluation_episodes = 10        # Number of evaluation episodes to average over\n",
    "    evaluation_size = 500           # Number of experiences (replay memory) to use for validating Q\n",
    "    log_interval = 25000            # Number of training steps between printing logging status\n",
    "    render = False                  # Display screen (testing only)"
   ]
  },
  {
   "cell_type": "markdown",
   "metadata": {},
   "source": [
    "### 3. Setup the platform where we'll run\n",
    "\n",
    "Using some of the arguments above we can setup some of our platform parameters"
   ]
  },
  {
   "cell_type": "code",
   "execution_count": 15,
   "metadata": {},
   "outputs": [
    {
     "name": "stdout",
     "output_type": "stream",
     "text": [
      "Agent Parameters\n",
      "********************************************************************************\n",
      "__module__: __main__\n",
      "seed: 123\n",
      "use_NoisyNet: True\n",
      "disable_cuda: False\n",
      "device: cuda\n",
      "game: /home/munirjojo-verge/deep-reinforcement-learning/p1_navigation/Banana_Linux/Banana.x86_64\n",
      "T_max: 1000\n",
      "max_episode_length: 108000\n",
      "history_length: 1\n",
      "hidden_size: 64\n",
      "noisy_std: 0.1\n",
      "atoms: 51\n",
      "V_min: -10\n",
      "V_max: 10\n",
      "model: \n",
      "memory_capacity: 100000\n",
      "replay_frequency: 1\n",
      "priority_exponent: 0.5\n",
      "priority_weight: 0.4\n",
      "multi_step: 1\n",
      "discount: 0.99\n",
      "target_update: 4\n",
      "tau: 0.001\n",
      "reward_clip: 1\n",
      "lr: 0.000625\n",
      "adam_eps: 0.00015\n",
      "batch_size: 64\n",
      "learn_start: 800\n",
      "evaluate: False\n",
      "evaluation_interval: 100000\n",
      "evaluation_episodes: 10\n",
      "evaluation_size: 500\n",
      "log_interval: 25000\n",
      "render: False\n",
      "__dict__: <attribute '__dict__' of 'args' objects>\n",
      "__weakref__: <attribute '__weakref__' of 'args' objects>\n",
      "__doc__: None\n"
     ]
    }
   ],
   "source": [
    "random.seed(args.seed)\n",
    "torch.manual_seed(random.randint(1, 10000))\n",
    "\n",
    "# Setup the device we will use.\n",
    "if torch.cuda.is_available() and not args.disable_cuda:\n",
    "  args.device = torch.device('cuda')\n",
    "  torch.cuda.manual_seed(random.randint(1, 10000))\n",
    "  torch.backends.cudnn.enabled = False  # Disable nondeterministic ops (not sure if critical but better safe than sorry)\n",
    "else:\n",
    "  args.device = torch.device('cpu')\n",
    "\n",
    "# Print all these parameters for Reference\n",
    "print('Agent Parameters')\n",
    "print('********************************************************************************')\n",
    "for k, v in vars(args).items():\n",
    "  print(k + ': ' + str(v))"
   ]
  },
  {
   "cell_type": "markdown",
   "metadata": {},
   "source": [
    "### 4. Simple ISO 8601 timestamped logger"
   ]
  },
  {
   "cell_type": "code",
   "execution_count": 16,
   "metadata": {},
   "outputs": [],
   "source": [
    "def log(s):\n",
    "  print('[' + str(datetime.now().strftime('%Y-%m-%dT%H:%M:%S')) + '] ' + s)"
   ]
  },
  {
   "cell_type": "markdown",
   "metadata": {},
   "source": [
    "### 5. Create the Environment - Unity"
   ]
  },
  {
   "cell_type": "code",
   "execution_count": 7,
   "metadata": {
    "scrolled": true
   },
   "outputs": [
    {
     "name": "stderr",
     "output_type": "stream",
     "text": [
      "INFO:unityagents:\n",
      "'Academy' started successfully!\n",
      "Unity Academy name: Academy\n",
      "        Number of Brains: 1\n",
      "        Number of External Brains : 1\n",
      "        Lesson number : 0\n",
      "        Reset Parameters :\n",
      "\t\t\n",
      "Unity brain name: BananaBrain\n",
      "        Number of Visual Observations (per agent): 0\n",
      "        Vector Observation space type: continuous\n",
      "        Vector Observation space size (per agent): 37\n",
      "        Number of stacked Vector Observation: 1\n",
      "        Vector Action space type: discrete\n",
      "        Vector Action space size (per agent): 4\n",
      "        Vector Action descriptions: , , , \n"
     ]
    }
   ],
   "source": [
    "env = UnityEnvironment(file_name=args.game)"
   ]
  },
  {
   "cell_type": "markdown",
   "metadata": {},
   "source": [
    "Environments contain **_brains_** which are responsible for deciding the actions of their associated agents. Here we check for the first brain available, and set it as the default brain we will be controlling from Python."
   ]
  },
  {
   "cell_type": "code",
   "execution_count": 17,
   "metadata": {},
   "outputs": [],
   "source": [
    "# get the default brain\n",
    "brain_name = env.brain_names[0]\n",
    "brain = env.brains[brain_name]"
   ]
  },
  {
   "cell_type": "markdown",
   "metadata": {},
   "source": [
    "### 6. Examine the State and Action Spaces\n",
    "\n",
    "The simulation contains a single agent that navigates a large environment.  At each time step, it has four actions at its disposal:\n",
    "- `0` - walk forward \n",
    "- `1` - walk backward\n",
    "- `2` - turn left\n",
    "- `3` - turn right\n",
    "\n",
    "The state space has `37` dimensions and contains the agent's velocity, along with ray-based perception of objects around agent's forward direction.  A reward of `+1` is provided for collecting a yellow banana, and a reward of `-1` is provided for collecting a blue banana. \n",
    "\n",
    "Run the code cell below to print some information about the environment."
   ]
  },
  {
   "cell_type": "code",
   "execution_count": 18,
   "metadata": {},
   "outputs": [
    {
     "name": "stdout",
     "output_type": "stream",
     "text": [
      "Number of agents: 1\n",
      "Number of actions: 4\n",
      "States look like: [1.         0.         0.         0.         0.07860738 0.\n",
      " 1.         0.         0.         0.50129277 0.         0.\n",
      " 1.         0.         0.30833051 0.         1.         0.\n",
      " 0.         0.48348328 0.         0.         1.         0.\n",
      " 0.31010503 0.         1.         0.         0.         0.45606101\n",
      " 1.         0.         0.         0.         0.26868555 0.\n",
      " 0.        ]\n",
      "States have length: 37\n"
     ]
    }
   ],
   "source": [
    "# reset the environment\n",
    "env_info = env.reset(train_mode=True)[brain_name]\n",
    "\n",
    "# number of agents in the environment\n",
    "print('Number of agents:', len(env_info.agents))\n",
    "\n",
    "# number of actions\n",
    "action_size = brain.vector_action_space_size\n",
    "print('Number of actions:', action_size)\n",
    "\n",
    "# examine the state space \n",
    "state = env_info.vector_observations[0]\n",
    "print('States look like:', state)\n",
    "state_size = len(state)\n",
    "print('States have length:', state_size)"
   ]
  },
  {
   "cell_type": "markdown",
   "metadata": {},
   "source": [
    "### 7. Setup the Agent (i.e. define the DQN)"
   ]
  },
  {
   "cell_type": "code",
   "execution_count": 19,
   "metadata": {
    "scrolled": true
   },
   "outputs": [],
   "source": [
    "# Construct the Agent with it's brain(DQN, DDQN, and the Replay Memory withOUT weighted priorities)\n",
    "agent = Agent(args=args, state_size=state_size, action_size=action_size)"
   ]
  },
  {
   "cell_type": "markdown",
   "metadata": {},
   "source": [
    "### 8. Train the Agent with DQN\n",
    "\n",
    "DQN Basic train function"
   ]
  },
  {
   "cell_type": "code",
   "execution_count": 22,
   "metadata": {},
   "outputs": [],
   "source": [
    "from __future__ import print_function\n",
    "\n",
    "def dqn(n_episodes=2000, max_t=2000, eps_start=0.4, eps_end=0.01, eps_decay=0.995):\n",
    "    \"\"\"Deep Q-Learning.\n",
    "    \n",
    "    Params\n",
    "    ======\n",
    "        n_episodes (int): maximum number of training episodes\n",
    "        max_t (int): maximum number of timesteps per episode\n",
    "        eps_start (float): starting value of epsilon, for epsilon-greedy action selection\n",
    "        eps_end (float): minimum value of epsilon\n",
    "        eps_decay (float): multiplicative factor (per episode) for decreasing epsilon\n",
    "    \"\"\"\n",
    "    f1=open('./TraningSummary_'+ str(datetime.now().strftime('%Y_%m_%dT_%H_%M')), 'w+')\n",
    "    \n",
    "    scores = []                                        # list containing scores from each episode\n",
    "    scores_window = deque(maxlen=100)                  # last 100 scores\n",
    "    eps = eps_start                                    # initialize epsilon\n",
    "    test_passed = False\n",
    "    highest_avg_score = 0\n",
    "    \n",
    "    # Training loop    \n",
    "    print('Training loop')  \n",
    "    print('\\rNum episodes: {}\\tmax_t: {}\\teps_start: {:.3f}\\teps_end: {:.3f}\\teps_decay: {:.3f}'.format(n_episodes, max_t, eps_start, eps_end, eps_decay))\n",
    "    \n",
    "    print('Training loop', file=f1)\n",
    "    print('\\rNum episodes: {}\\tmax_t: {}\\teps_start: {:.3f}\\teps_end: {:.3f}\\teps_decay: {:.3f}'.format(n_episodes, max_t, eps_start, eps_end, eps_decay), file=f1)\n",
    "    \n",
    "    for i_episode in range(1, n_episodes+1):\n",
    "        env_info = env.reset(train_mode=True)[brain_name] # reset the environment\n",
    "        state = env_info.vector_observations[0]            # get the current state\n",
    "        score = 0                                          # initialize the score          \n",
    "        done = False\n",
    "        for t in range(max_t):\n",
    "    \n",
    "            if args.use_NoisyNet and t % args.replay_frequency == 0:\n",
    "              agent.reset_noise()                          # Draw a new set of noisy weights\n",
    "\n",
    "            action = agent.act(state, eps)                 # Choose an action greedily (with noisy weights)\n",
    "            env_info = env.step(action)[brain_name]        # send the action to the environment\n",
    "            next_state = env_info.vector_observations[0]   # get the next state\n",
    "            reward = env_info.rewards[0]                   # get the reward        \n",
    "            done = env_info.local_done[0]                  # see if episode has finished\n",
    "            score += reward                                # update the score\n",
    "\n",
    "            agent.step(state, action, reward, next_state, done) # Have the agent update all the information from this experience\n",
    "\n",
    "            state = next_state\n",
    "\n",
    "            if args.reward_clip > 0:\n",
    "              reward = max(min(reward, args.reward_clip), -args.reward_clip)  # Clip rewards\n",
    "            \n",
    "            if done:                \n",
    "                break\n",
    "                \n",
    "        scores_window.append(score)       # save most recent score\n",
    "        scores.append(score)              # save most recent score\n",
    "        avg_score = np.mean(scores_window)# average score for the last 100 episodes\n",
    "        \n",
    "        eps = max(eps_end, eps_decay*eps) # decrease epsilon\n",
    "        \n",
    "        # Print every episode score and the last 100 episodes average score\n",
    "        print('\\rEpisode {}\\tScore: {:.2f}\\tAverage Score: {:.2f}'.format(i_episode, score, avg_score), end=\"\")\n",
    "        print('\\rEpisode {}\\tScore: {:.2f}\\tAverage Score: {:.2f}'.format(i_episode, score, avg_score), file=f1)\n",
    "        \n",
    "        if i_episode % 10 == 0:\n",
    "            print('\\rEpisode {}\\tScore: {:.2f}\\tAverage Score: {:.2f}'.format(i_episode, score, avg_score))\n",
    "            print('\\rEpisode {}\\tScore: {:.2f}\\tAverage Score: {:.2f}'.format(i_episode, score, avg_score), file=f1)\n",
    "            \n",
    "        # Handleling the PASS Criteria        \n",
    "        if avg_score >= 13.0 and not test_passed:\n",
    "            test_passed = True            \n",
    "            torch.save(agent.DQN_local.state_dict(), 'checkpoint_JustPass.pth')\n",
    "            print('\\nEnvironment solved in {:d} episodes!\\tAverage Score: {:.2f}'.format(i_episode-100, avg_score))\n",
    "            print('\\nEnvironment solved in {:d} episodes!\\tAverage Score: {:.2f}'.format(i_episode-100, avg_score),file=f1)\n",
    "            \n",
    "        # Let's see how good we can get..and continue!\n",
    "        if highest_avg_score < avg_score:\n",
    "            highest_avg_score = avg_score\n",
    "            torch.save(agent.DQN_local.state_dict(), 'checkpoint_Best.pth')\n",
    "        \n",
    "    f1.close()        \n",
    "    return scores     \n"
   ]
  },
  {
   "cell_type": "markdown",
   "metadata": {},
   "source": [
    "Run the code cell below to train the agent from scratch.\n",
    "Alternatively, you can skip to the next step below (**9. Watch a Smart Agent!**), to load the saved model weights from a pre-trained agent."
   ]
  },
  {
   "cell_type": "code",
   "execution_count": 23,
   "metadata": {
    "scrolled": true
   },
   "outputs": [
    {
     "name": "stdout",
     "output_type": "stream",
     "text": [
      "Training loop\n",
      "Num episodes: 2000\tmax_t: 2000\teps_start: 0.400\teps_end: 0.010\teps_decay: 0.995\n",
      "Episode 10\tScore: 9.00\tAverage Score: 7.40\n",
      "Episode 20\tScore: 3.00\tAverage Score: 7.659\n",
      "Episode 30\tScore: 11.00\tAverage Score: 8.23\n",
      "Episode 40\tScore: 11.00\tAverage Score: 8.47\n",
      "Episode 50\tScore: 11.00\tAverage Score: 8.86\n",
      "Episode 60\tScore: 15.00\tAverage Score: 9.27\n",
      "Episode 70\tScore: 10.00\tAverage Score: 9.61\n",
      "Episode 80\tScore: 12.00\tAverage Score: 9.81\n",
      "Episode 90\tScore: 9.00\tAverage Score: 9.687\n",
      "Episode 100\tScore: 9.00\tAverage Score: 9.71\n",
      "Episode 110\tScore: 7.00\tAverage Score: 10.191\n",
      "Episode 120\tScore: 13.00\tAverage Score: 10.73\n",
      "Episode 130\tScore: 16.00\tAverage Score: 11.17\n",
      "Episode 140\tScore: 18.00\tAverage Score: 11.43\n",
      "Episode 150\tScore: 15.00\tAverage Score: 11.63\n",
      "Episode 160\tScore: 11.00\tAverage Score: 11.59\n",
      "Episode 170\tScore: 11.00\tAverage Score: 11.61\n",
      "Episode 180\tScore: 8.00\tAverage Score: 11.704\n",
      "Episode 190\tScore: 14.00\tAverage Score: 12.14\n",
      "Episode 200\tScore: 2.00\tAverage Score: 12.063\n",
      "Episode 210\tScore: 12.00\tAverage Score: 11.90\n",
      "Episode 220\tScore: 3.00\tAverage Score: 11.544\n",
      "Episode 230\tScore: 16.00\tAverage Score: 11.18\n",
      "Episode 240\tScore: 13.00\tAverage Score: 11.57\n",
      "Episode 250\tScore: 9.00\tAverage Score: 11.496\n",
      "Episode 260\tScore: 10.00\tAverage Score: 11.61\n",
      "Episode 270\tScore: 4.00\tAverage Score: 11.518\n",
      "Episode 280\tScore: 14.00\tAverage Score: 11.87\n",
      "Episode 290\tScore: 8.00\tAverage Score: 11.828\n",
      "Episode 300\tScore: 7.00\tAverage Score: 12.149\n",
      "Episode 310\tScore: 11.00\tAverage Score: 12.27\n",
      "Episode 320\tScore: 9.00\tAverage Score: 12.471\n",
      "Episode 330\tScore: 16.00\tAverage Score: 12.86\n",
      "Episode 340\tScore: 12.00\tAverage Score: 12.56\n",
      "Episode 350\tScore: 17.00\tAverage Score: 12.47\n",
      "Episode 360\tScore: 16.00\tAverage Score: 12.66\n",
      "Episode 370\tScore: 11.00\tAverage Score: 12.93\n",
      "Episode 380\tScore: 8.00\tAverage Score: 12.412\n",
      "Episode 390\tScore: 14.00\tAverage Score: 12.45\n",
      "Episode 400\tScore: 9.00\tAverage Score: 12.520\n",
      "Episode 410\tScore: 13.00\tAverage Score: 12.86\n",
      "Episode 413\tScore: 19.00\tAverage Score: 13.05\n",
      "Environment solved in 313 episodes!\tAverage Score: 13.05\n",
      "Episode 420\tScore: 19.00\tAverage Score: 13.19\n",
      "Episode 430\tScore: 18.00\tAverage Score: 13.15\n",
      "Episode 440\tScore: 8.00\tAverage Score: 13.104\n",
      "Episode 450\tScore: 16.00\tAverage Score: 13.54\n",
      "Episode 460\tScore: 18.00\tAverage Score: 13.63\n",
      "Episode 470\tScore: 13.00\tAverage Score: 13.90\n",
      "Episode 480\tScore: 17.00\tAverage Score: 14.38\n",
      "Episode 490\tScore: 6.00\tAverage Score: 14.564\n",
      "Episode 500\tScore: 15.00\tAverage Score: 14.65\n",
      "Episode 510\tScore: 9.00\tAverage Score: 14.504\n",
      "Episode 520\tScore: 8.00\tAverage Score: 14.334\n",
      "Episode 530\tScore: 12.00\tAverage Score: 14.35\n",
      "Episode 540\tScore: 23.00\tAverage Score: 14.41\n",
      "Episode 550\tScore: 16.00\tAverage Score: 14.34\n",
      "Episode 560\tScore: 11.00\tAverage Score: 14.36\n",
      "Episode 570\tScore: 10.00\tAverage Score: 14.30\n",
      "Episode 580\tScore: 14.00\tAverage Score: 14.41\n",
      "Episode 590\tScore: 12.00\tAverage Score: 14.44\n",
      "Episode 600\tScore: 11.00\tAverage Score: 14.57\n",
      "Episode 610\tScore: 21.00\tAverage Score: 14.72\n",
      "Episode 620\tScore: 11.00\tAverage Score: 14.91\n",
      "Episode 630\tScore: 15.00\tAverage Score: 15.08\n",
      "Episode 640\tScore: 20.00\tAverage Score: 15.28\n",
      "Episode 650\tScore: 14.00\tAverage Score: 15.28\n",
      "Episode 660\tScore: 19.00\tAverage Score: 15.47\n",
      "Episode 670\tScore: 22.00\tAverage Score: 15.44\n",
      "Episode 680\tScore: 16.00\tAverage Score: 15.51\n",
      "Episode 690\tScore: 10.00\tAverage Score: 15.51\n",
      "Episode 700\tScore: 15.00\tAverage Score: 15.65\n",
      "Episode 710\tScore: 18.00\tAverage Score: 15.76\n",
      "Episode 720\tScore: 23.00\tAverage Score: 15.63\n",
      "Episode 730\tScore: 18.00\tAverage Score: 15.74\n",
      "Episode 740\tScore: 18.00\tAverage Score: 15.76\n",
      "Episode 750\tScore: 18.00\tAverage Score: 15.90\n",
      "Episode 760\tScore: 18.00\tAverage Score: 15.87\n",
      "Episode 770\tScore: 14.00\tAverage Score: 16.10\n",
      "Episode 780\tScore: 15.00\tAverage Score: 15.98\n",
      "Episode 790\tScore: 23.00\tAverage Score: 15.96\n",
      "Episode 800\tScore: 9.00\tAverage Score: 15.828\n",
      "Episode 810\tScore: 9.00\tAverage Score: 15.709\n",
      "Episode 820\tScore: 15.00\tAverage Score: 15.79\n",
      "Episode 830\tScore: 21.00\tAverage Score: 15.77\n",
      "Episode 840\tScore: 16.00\tAverage Score: 15.89\n",
      "Episode 850\tScore: 17.00\tAverage Score: 15.82\n",
      "Episode 860\tScore: 18.00\tAverage Score: 15.81\n",
      "Episode 870\tScore: 13.00\tAverage Score: 15.56\n",
      "Episode 880\tScore: 18.00\tAverage Score: 15.11\n",
      "Episode 890\tScore: 11.00\tAverage Score: 15.03\n",
      "Episode 900\tScore: 9.00\tAverage Score: 14.766\n",
      "Episode 910\tScore: 21.00\tAverage Score: 14.64\n",
      "Episode 920\tScore: 15.00\tAverage Score: 14.17\n",
      "Episode 930\tScore: 16.00\tAverage Score: 13.93\n",
      "Episode 940\tScore: 17.00\tAverage Score: 13.76\n",
      "Episode 950\tScore: 13.00\tAverage Score: 13.86\n",
      "Episode 960\tScore: 21.00\tAverage Score: 13.62\n",
      "Episode 970\tScore: 6.00\tAverage Score: 13.329\n",
      "Episode 980\tScore: 18.00\tAverage Score: 13.72\n",
      "Episode 990\tScore: 23.00\tAverage Score: 13.94\n",
      "Episode 1000\tScore: 20.00\tAverage Score: 13.92\n",
      "Episode 1010\tScore: 16.00\tAverage Score: 14.12\n",
      "Episode 1020\tScore: 16.00\tAverage Score: 14.57\n",
      "Episode 1030\tScore: 22.00\tAverage Score: 14.85\n",
      "Episode 1040\tScore: 15.00\tAverage Score: 14.70\n",
      "Episode 1050\tScore: 18.00\tAverage Score: 14.67\n",
      "Episode 1060\tScore: 14.00\tAverage Score: 14.71\n",
      "Episode 1070\tScore: 13.00\tAverage Score: 14.87\n",
      "Episode 1080\tScore: 17.00\tAverage Score: 15.03\n",
      "Episode 1090\tScore: 16.00\tAverage Score: 15.03\n",
      "Episode 1100\tScore: 8.00\tAverage Score: 15.402\n",
      "Episode 1110\tScore: 16.00\tAverage Score: 15.57\n",
      "Episode 1120\tScore: 18.00\tAverage Score: 15.63\n",
      "Episode 1130\tScore: 25.00\tAverage Score: 15.44\n",
      "Episode 1140\tScore: 9.00\tAverage Score: 15.962\n",
      "Episode 1150\tScore: 12.00\tAverage Score: 15.95\n",
      "Episode 1160\tScore: 16.00\tAverage Score: 16.08\n",
      "Episode 1170\tScore: 17.00\tAverage Score: 16.32\n",
      "Episode 1180\tScore: 24.00\tAverage Score: 16.44\n",
      "Episode 1190\tScore: 10.00\tAverage Score: 16.48\n",
      "Episode 1200\tScore: 19.00\tAverage Score: 16.37\n",
      "Episode 1210\tScore: 19.00\tAverage Score: 16.09\n",
      "Episode 1220\tScore: 18.00\tAverage Score: 16.10\n",
      "Episode 1230\tScore: 6.00\tAverage Score: 16.198\n",
      "Episode 1240\tScore: 20.00\tAverage Score: 15.91\n",
      "Episode 1250\tScore: 19.00\tAverage Score: 16.12\n",
      "Episode 1260\tScore: 16.00\tAverage Score: 16.03\n",
      "Episode 1270\tScore: 22.00\tAverage Score: 16.01\n",
      "Episode 1280\tScore: 15.00\tAverage Score: 15.82\n",
      "Episode 1290\tScore: 13.00\tAverage Score: 15.66\n",
      "Episode 1300\tScore: 13.00\tAverage Score: 15.62\n",
      "Episode 1310\tScore: 15.00\tAverage Score: 15.67\n",
      "Episode 1320\tScore: 20.00\tAverage Score: 15.70\n",
      "Episode 1330\tScore: 9.00\tAverage Score: 15.674\n",
      "Episode 1340\tScore: 16.00\tAverage Score: 15.77\n",
      "Episode 1350\tScore: 16.00\tAverage Score: 15.55\n",
      "Episode 1360\tScore: 18.00\tAverage Score: 15.56\n",
      "Episode 1370\tScore: 20.00\tAverage Score: 15.46\n",
      "Episode 1380\tScore: 20.00\tAverage Score: 15.36\n",
      "Episode 1390\tScore: 20.00\tAverage Score: 15.62\n",
      "Episode 1400\tScore: 8.00\tAverage Score: 15.827\n",
      "Episode 1410\tScore: 11.00\tAverage Score: 15.66\n",
      "Episode 1420\tScore: 20.00\tAverage Score: 15.73\n",
      "Episode 1430\tScore: 22.00\tAverage Score: 15.62\n",
      "Episode 1440\tScore: 12.00\tAverage Score: 15.55\n",
      "Episode 1450\tScore: 22.00\tAverage Score: 15.40\n",
      "Episode 1460\tScore: 16.00\tAverage Score: 15.22\n",
      "Episode 1470\tScore: 3.00\tAverage Score: 15.185\n",
      "Episode 1480\tScore: 15.00\tAverage Score: 15.01\n",
      "Episode 1490\tScore: 14.00\tAverage Score: 14.91\n",
      "Episode 1500\tScore: 17.00\tAverage Score: 14.82\n",
      "Episode 1510\tScore: 9.00\tAverage Score: 14.979\n",
      "Episode 1520\tScore: 17.00\tAverage Score: 14.98\n",
      "Episode 1530\tScore: 18.00\tAverage Score: 15.19\n",
      "Episode 1540\tScore: 19.00\tAverage Score: 15.18\n",
      "Episode 1550\tScore: 15.00\tAverage Score: 15.32\n",
      "Episode 1560\tScore: 21.00\tAverage Score: 15.40\n",
      "Episode 1570\tScore: 19.00\tAverage Score: 15.46\n",
      "Episode 1580\tScore: 11.00\tAverage Score: 15.64\n",
      "Episode 1590\tScore: 16.00\tAverage Score: 15.20\n",
      "Episode 1600\tScore: 6.00\tAverage Score: 14.912\n",
      "Episode 1610\tScore: 13.00\tAverage Score: 14.83\n",
      "Episode 1620\tScore: 15.00\tAverage Score: 14.67\n",
      "Episode 1630\tScore: 13.00\tAverage Score: 14.55\n",
      "Episode 1640\tScore: 14.00\tAverage Score: 14.62\n",
      "Episode 1650\tScore: 20.00\tAverage Score: 14.63\n",
      "Episode 1660\tScore: 23.00\tAverage Score: 14.87\n",
      "Episode 1670\tScore: 15.00\tAverage Score: 14.90\n",
      "Episode 1680\tScore: 16.00\tAverage Score: 14.78\n",
      "Episode 1690\tScore: 19.00\tAverage Score: 15.00\n",
      "Episode 1700\tScore: 17.00\tAverage Score: 15.15\n",
      "Episode 1710\tScore: 15.00\tAverage Score: 15.25\n",
      "Episode 1720\tScore: 18.00\tAverage Score: 15.36\n"
     ]
    },
    {
     "name": "stdout",
     "output_type": "stream",
     "text": [
      "Episode 1730\tScore: 17.00\tAverage Score: 15.48\n",
      "Episode 1740\tScore: 15.00\tAverage Score: 15.32\n",
      "Episode 1750\tScore: 18.00\tAverage Score: 15.37\n",
      "Episode 1760\tScore: 15.00\tAverage Score: 15.09\n",
      "Episode 1770\tScore: 19.00\tAverage Score: 15.10\n",
      "Episode 1780\tScore: 18.00\tAverage Score: 15.31\n",
      "Episode 1790\tScore: 17.00\tAverage Score: 15.02\n",
      "Episode 1800\tScore: 18.00\tAverage Score: 14.89\n",
      "Episode 1810\tScore: 12.00\tAverage Score: 15.05\n",
      "Episode 1820\tScore: 20.00\tAverage Score: 15.24\n",
      "Episode 1830\tScore: 21.00\tAverage Score: 15.26\n",
      "Episode 1840\tScore: 17.00\tAverage Score: 15.16\n",
      "Episode 1850\tScore: 18.00\tAverage Score: 15.17\n",
      "Episode 1860\tScore: 15.00\tAverage Score: 15.38\n",
      "Episode 1870\tScore: 11.00\tAverage Score: 15.46\n",
      "Episode 1880\tScore: 21.00\tAverage Score: 15.50\n",
      "Episode 1890\tScore: 17.00\tAverage Score: 15.94\n",
      "Episode 1900\tScore: 13.00\tAverage Score: 16.16\n",
      "Episode 1910\tScore: 20.00\tAverage Score: 16.29\n",
      "Episode 1920\tScore: 12.00\tAverage Score: 16.00\n",
      "Episode 1930\tScore: 7.00\tAverage Score: 15.660\n",
      "Episode 1940\tScore: 15.00\tAverage Score: 15.82\n",
      "Episode 1950\tScore: 18.00\tAverage Score: 15.88\n",
      "Episode 1960\tScore: 14.00\tAverage Score: 15.71\n",
      "Episode 1970\tScore: 6.00\tAverage Score: 15.650\n",
      "Episode 1980\tScore: 19.00\tAverage Score: 15.51\n",
      "Episode 1990\tScore: 21.00\tAverage Score: 15.46\n",
      "Episode 2000\tScore: 15.00\tAverage Score: 15.61\n"
     ]
    },
    {
     "data": {
      "image/png": "[encoded data removed]",
      "text/plain": [
       "<Figure size 432x288 with 1 Axes>"
      ]
     },
     "metadata": {},
     "output_type": "display_data"
    }
   ],
   "source": [
    "scores = dqn()\n",
    "\n",
    "# plot the scores\n",
    "fig = plt.figure()\n",
    "ax = fig.add_subplot(111)\n",
    "plt.plot(np.arange(len(scores)), scores)\n",
    "plt.ylabel('Score')\n",
    "plt.xlabel('Episode #')\n",
    "plt.show()"
   ]
  },
  {
   "cell_type": "markdown",
   "metadata": {},
   "source": [
    "### 9. Watch the Smart Agent behave!\n",
    "\n",
    "In the next code cell, I will load the trained weights from file to watch the smart/trained agent behave!"
   ]
  },
  {
   "cell_type": "code",
   "execution_count": null,
   "metadata": {},
   "outputs": [],
   "source": [
    "# load the weights from file\n",
    "# The \"Best\" average is NOT related to the the Best set of weights, since that last episode when we averaged\n",
    "# and found out it was the best, might be actually a really bad (score) episode. Also the \"Best\" episode might be\n",
    "# totally overfitted to a specific episode and the agent might not perform as well in a new episode.\n",
    "# For the sake of the study we will load the last episode's weights that lead to the \"Best\" average.\n",
    "agent.DQN_local.load_state_dict(torch.load('checkpoint_Best.pth'))\n",
    "\n",
    "for i in range(3):\n",
    "    env_info = env.reset(train_mode=False)[brain_name] # reset the environment - NOT Training\n",
    "    state = env_info.vector_observations[0]            # get the current state        \n",
    "    for j in range(200):\n",
    "        action = agent.act(state)                      # Act acording to Policy (eps = 0)\n",
    "        env_info = env.step(action)[brain_name]        # send the action to the environment        \n",
    "        done = env_info.local_done[0]                  # see if episode has finished\n",
    "                \n",
    "        if done:\n",
    "            break \n",
    "            "
   ]
  },
  {
   "cell_type": "markdown",
   "metadata": {},
   "source": [
    "When finished, you can close the environment."
   ]
  },
  {
   "cell_type": "code",
   "execution_count": null,
   "metadata": {},
   "outputs": [],
   "source": [
    "env.close()"
   ]
  },
  {
   "cell_type": "code",
   "execution_count": null,
   "metadata": {},
   "outputs": [],
   "source": []
  }
 ],
 "metadata": {
  "kernelspec": {
   "display_name": "drlnd",
   "language": "python",
   "name": "drlnd"
  },
  "language_info": {
   "codemirror_mode": {
    "name": "ipython",
    "version": 3
   },
   "file_extension": ".py",
   "mimetype": "text/x-python",
   "name": "python",
   "nbconvert_exporter": "python",
   "pygments_lexer": "ipython3",
   "version": "3.6.5"
  }
 },
 "nbformat": 4,
 "nbformat_minor": 2
}
